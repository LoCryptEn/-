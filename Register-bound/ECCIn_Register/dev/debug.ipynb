{
 "cells": [
  {
   "cell_type": "code",
   "execution_count": 76,
   "metadata": {},
   "outputs": [],
   "source": [
    "k1=0x238969131e4d9a3bfe663a5e1e27c506382c21508b1d441c90c5c731ba5f0b9a\n",
    "d=0x849331e39d402eb3ef5f7e59dda8989295b9090e0033617d87bd9c794eb2acbe\n",
    "a=0xb037c85cf713c2c9ac47d38def89a07cf8142bdf21156b89f3453db960efd0ff\n",
    "n=0xffffffff00000000ffffffffffffffffbce6faada7179e84f3b9cac2fc632551\n",
    "M = pow(1<<256, -1, n)\n"
   ]
  },
  {
   "cell_type": "code",
   "execution_count": 81,
   "metadata": {},
   "outputs": [
    {
     "name": "stdout",
     "output_type": "stream",
     "text": [
      "0x71123ed3a7add4c2e6be1d7e18e3e7d3f8e9b4b7e8a565a93b73e2eba15293f1\n",
      "0xda717853134a285af1185e70c41417f6bd82da1e76e540116fec0848545e9c13\n"
     ]
    }
   ],
   "source": [
    "k2=0x4D88D5C089603A86E857E31FFABC22CDC0BD93675D88218CAAAE1BB9E6F38857\n",
    "k=(k1+k2)%n\n",
    "print(hex(k%n))\n",
    "print(hex((a*k)%n))"
   ]
  },
  {
   "cell_type": "code",
   "execution_count": 71,
   "metadata": {},
   "outputs": [
    {
     "name": "stdout",
     "output_type": "stream",
     "text": [
      "0x99a6c1cea5f313461496bbc7e97550744088742f9972e57325ae732cd20f5062\n",
      "0x199a6c1cda5f313471496bbc7e9755073fd6f6edd408a83f819683defce7275b3\n"
     ]
    }
   ],
   "source": [
    "r=0xF6241BFD878DF8990097B9B9006807F148FC3519F8CE91712687CC98EB706876\n",
    "z=0xb2bd111f2a661e9159b03b01b1b9eda668f6039b670be4b8f88a4b2eea67d44f\n",
    "\n",
    "s=(z+r*d)%n\n",
    "print(hex(s))\n",
    "print(hex((z+r*d%n)))\n",
    "0x99a6c1cea5f313461496bbc7e97550744088742f9972e57325ae732cd20f5062\n",
    "0x99a6c1cea5f313461496bbc7e97550744088742f9972e57325ae732cd20f5062"
   ]
  }
 ],
 "metadata": {
  "kernelspec": {
   "display_name": "Python 3",
   "language": "python",
   "name": "python3"
  },
  "language_info": {
   "codemirror_mode": {
    "name": "ipython",
    "version": 3
   },
   "file_extension": ".py",
   "mimetype": "text/x-python",
   "name": "python",
   "nbconvert_exporter": "python",
   "pygments_lexer": "ipython3",
   "version": "3.8.10"
  }
 },
 "nbformat": 4,
 "nbformat_minor": 2
}
