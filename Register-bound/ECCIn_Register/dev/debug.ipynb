{
 "cells": [
  {
   "cell_type": "code",
   "execution_count": 1,
   "metadata": {},
   "outputs": [],
   "source": [
    "k1=0x8E3728BDF01E6AAB0D8C5D774513B0DC84CF2B6982B0817ECD734398FF5BB165\n",
    "d=0x849331e39d402eb3ef5f7e59dda8989295b9090e0033617d87bd9c794eb2acbe\n",
    "a=0x6A243156DA85EEDC00F3615C4554A028AF41A632E0F9E9DFBFA3F51DBE6BCD31\n",
    "n=0xffffffff00000000ffffffffffffffffbce6faada7179e84f3b9cac2fc632551\n",
    "M = pow(1<<256, -1, n)\n"
   ]
  },
  {
   "cell_type": "code",
   "execution_count": 3,
   "metadata": {},
   "outputs": [
    {
     "name": "stdout",
     "output_type": "stream",
     "text": [
      "0x5dea8bad77ceebe1b4d1abb760495defce0aa9ca35eab6de2015d9ae4cef18d\n"
     ]
    }
   ],
   "source": [
    "k2=0x327be2ac46109951db9a3b4ffa048aafbe3a7946a50337366715ae0a31479b88\n",
    "k=(k1+k2)%n\n",
    "print(hex((a*k*M)%n))"
   ]
  },
  {
   "cell_type": "code",
   "execution_count": 71,
   "metadata": {},
   "outputs": [
    {
     "name": "stdout",
     "output_type": "stream",
     "text": [
      "0x99a6c1cea5f313461496bbc7e97550744088742f9972e57325ae732cd20f5062\n",
      "0x199a6c1cda5f313471496bbc7e9755073fd6f6edd408a83f819683defce7275b3\n"
     ]
    }
   ],
   "source": [
    "r=0xF6241BFD878DF8990097B9B9006807F148FC3519F8CE91712687CC98EB706876\n",
    "z=0xb2bd111f2a661e9159b03b01b1b9eda668f6039b670be4b8f88a4b2eea67d44f\n",
    "\n",
    "s=(z+r*d)%n\n",
    "print(hex(s))\n",
    "print(hex((z+r*d%n)))\n",
    "0x99a6c1cea5f313461496bbc7e97550744088742f9972e57325ae732cd20f5062\n",
    "0x99a6c1cea5f313461496bbc7e97550744088742f9972e57325ae732cd20f5062"
   ]
  }
 ],
 "metadata": {
  "kernelspec": {
   "display_name": "Python 3",
   "language": "python",
   "name": "python3"
  },
  "language_info": {
   "codemirror_mode": {
    "name": "ipython",
    "version": 3
   },
   "file_extension": ".py",
   "mimetype": "text/x-python",
   "name": "python",
   "nbconvert_exporter": "python",
   "pygments_lexer": "ipython3",
   "version": "3.8.10"
  }
 },
 "nbformat": 4,
 "nbformat_minor": 2
}
